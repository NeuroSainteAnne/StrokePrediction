{
 "cells": [
  {
   "cell_type": "markdown",
   "metadata": {
    "id": "MYbx9hT-w2BA"
   },
   "source": [
    "## Module loading"
   ]
  },
  {
   "cell_type": "code",
   "execution_count": null,
   "metadata": {
    "id": "4eoO16Yew2BG"
   },
   "outputs": [],
   "source": [
    "import joblib\n",
    "import matplotlib\n",
    "import matplotlib.pyplot as plt\n",
    "import h5py\n",
    "import numpy as np\n",
    "from natsort import natsorted"
   ]
  },
  {
   "cell_type": "markdown",
   "metadata": {
    "id": "kGZT5pbFw2BI"
   },
   "source": [
    "## Data loading\n",
    "\n",
    "The data must be in the following format :\n",
    "- one **train.hdf5** file containing the training data :\n",
    "    - *\"predictors_order\"*, a list with the orders of the predictors (description of each patch feature, length m)\n",
    "    - *\"x\"*, an array with all the extracted patches, flattened (dimension nxm)\n",
    "    - *\"y\"*, an array with all the extracted endpoint voxels (dimension n)\n",
    "    - *\"index_in_givenlist\"*, unique patient identifier for each voxel (length n)\n",
    "- one **test.hdf5** file containing the test data :\n",
    "    - *\"x\"*, an array with all the extracted patches (dimension NxXxYxZxM)\n",
    "    - *\"y\"*, an array with all the extracted endpoint voxels (dimension NxXxYxZ)\n",
    "    - *\"mask\"*, a mask of the brain for each subject with 0 for background, 1 for normal brain, 2 for hypoperfused area (dimension NxXxYxZ)\n",
    "- one **metadata.dat** file containing an unique variable :\n",
    "    - *\"train_patientnames\"* containing patient names (corresponding to indices)"
   ]
  },
  {
   "cell_type": "code",
   "execution_count": null,
   "metadata": {
    "id": "5qRt0aQFw2BJ"
   },
   "outputs": [],
   "source": [
    "sourcedir = \"data/\" # Data directory\n",
    "model_path = \"models/\" # output directory\n",
    "\n",
    "with h5py.File(sourcedir+\"train.h5\", \"r\") as traindata:\n",
    "    pred_list = list(traindata['predictors_order'])\n",
    "    X, y = np.array(traindata['x']), np.array(traindata['y'])\n",
    "    indexinlist = np.array(traindata['index_in_givenlist'])\n",
    "with h5py.File(sourcedir+\"test.h5\", \"r\") as testdata:\n",
    "    testX, testy = np.array(testdata['x']), np.array(testdata['y'])\n",
    "    testmask = np.array(testdata['mask'])\n",
    "with h5py.File(srcdir+\"metadata.h5\", \"r\") as namesdata:\n",
    "    total_names = list(namesdata['train_patientnames'])\n",
    "    total_indices = np.arange(len(total_names))"
   ]
  },
  {
   "cell_type": "markdown",
   "metadata": {
    "id": "iwJW6Mm5w2BQ"
   },
   "source": [
    "## Create and train models"
   ]
  },
  {
   "cell_type": "code",
   "execution_count": null,
   "metadata": {},
   "outputs": [],
   "source": [
    "from xgboost.sklearn import XGBClassifier\n",
    "from sklearn.ensemble import RandomForestClassifier"
   ]
  },
  {
   "cell_type": "code",
   "execution_count": null,
   "metadata": {
    "id": "cs7iDbGnw2BQ"
   },
   "outputs": [],
   "source": [
    "xgb = XGBClassifier(\n",
    "                    learning_rate = 0.1,\n",
    "                    n_estimators=1000,\n",
    "                    max_depth=5,\n",
    "                    n_jobs=-1,#jobs,\n",
    "                    min_child_weight=1,\n",
    "                    gamma=0,\n",
    "                    subsample=0.8,\n",
    "                    colsample_bytree=0.8,\n",
    "                    objective= 'binary:logistic',\n",
    "                    scale_pos_weight=1,\n",
    "                    random_state=0\n",
    "                   )\n",
    "xgbresults = xgb.fit(X, y, verbose=2)"
   ]
  },
  {
   "cell_type": "code",
   "execution_count": null,
   "metadata": {},
   "outputs": [],
   "source": [
    "rfc = RandomForestClassifier(n_jobs=-1, n_estimators=50)\n",
    "rfcresults = rfc.fit(X, y)"
   ]
  },
  {
   "cell_type": "markdown",
   "metadata": {},
   "source": [
    "## Scoring"
   ]
  },
  {
   "cell_type": "code",
   "execution_count": null,
   "metadata": {},
   "outputs": [],
   "source": [
    "from sklearn.metrics import jaccard_score, roc_auc_score, accuracy_score\n",
    "def scores(X, y, mask, resultsvar):\n",
    "    Xflat = X.reshape((-1, X.shape[-1]))\n",
    "    yflat = y.flatten()\n",
    "    maskflat = mask.flatten()\n",
    "    yhat = resultsvar.predict_proba(Xflat)[:,1]\n",
    "    \n",
    "    try:\n",
    "        roc = roc_auc_score(yflat, yhat)\n",
    "    except ValueError:\n",
    "        roc = accuracy_score(yflat, np.rint(yhat))\n",
    "        \n",
    "    aucS = -1\n",
    "    aucR = -1\n",
    "    mask = paramarray[\"mask\"]\n",
    "    if np.sum(yflat[np.logical_and(maskflat>0,maskflat<2)]>0.5) != 0:\n",
    "        aucS = roc_auc_score(yflat[np.logical_and(maskflat>0,maskflat<2)]>0.5, yhat[np.logical_and(maskflat>0,maskflat<2)])\n",
    "    if np.sum(yflat[maskflat==2]>0.5) != 0:\n",
    "        aucR = roc_auc_score(yflat[maskflat==2]>0.5, yhat[maskflat==2])\n",
    "    if aucS == -1 and aucR == -1:\n",
    "        auc0 = 0\n",
    "    elif aucS == -1:\n",
    "        auc0 = aucR\n",
    "    elif aucR == -1:\n",
    "        auc0 = aucS\n",
    "    else:\n",
    "        auc0 = (aucS+aucR)/2\n",
    "        \n",
    "    return {\"jaccard\":jaccard_score(yflat, yhat>0.5), \n",
    "            \"auroc\":roc,\n",
    "            \"auc0\":auc0,\n",
    "            \"volumegold\":np.sum(yflat),\n",
    "            \"volumepred\":np.sum(yhat>0.5)}"
   ]
  },
  {
   "cell_type": "code",
   "execution_count": null,
   "metadata": {},
   "outputs": [],
   "source": [
    "for i in range(testX.shape[0]):\n",
    "    print(\"Test subject\", i)\n",
    "    print(\"Gradient boosting:\")\n",
    "    print(scores(testX[i], testy[i], testmask[i], xgbresults))\n",
    "    print(\"Random forest:\")\n",
    "    print(scores(testX[i], testy[i], testmask[i], rfcresults))"
   ]
  },
  {
   "cell_type": "markdown",
   "metadata": {},
   "source": [
    "## Model export"
   ]
  },
  {
   "cell_type": "code",
   "execution_count": null,
   "metadata": {},
   "outputs": [],
   "source": [
    "joblib.dump(xgb, compress=3, protocol=2, filename=model_path+\"/XGBmodel.dump.gz\")\n",
    "joblib.dump(rfc, compress=3, protocol=2, filename=model_path+\"/RFmodel.dump.gz\")"
   ]
  }
 ],
 "metadata": {
  "colab": {
   "name": "synthFLAIR.ipynb",
   "provenance": []
  },
  "kernelspec": {
   "display_name": "Python 3",
   "language": "python",
   "name": "python3"
  },
  "language_info": {
   "codemirror_mode": {
    "name": "ipython",
    "version": 3
   },
   "file_extension": ".py",
   "mimetype": "text/x-python",
   "name": "python",
   "nbconvert_exporter": "python",
   "pygments_lexer": "ipython3",
   "version": "3.8.5"
  }
 },
 "nbformat": 4,
 "nbformat_minor": 4
}
